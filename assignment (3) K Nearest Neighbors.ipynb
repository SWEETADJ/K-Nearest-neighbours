{
 "cells": [
  {
   "cell_type": "code",
   "execution_count": 1,
   "metadata": {},
   "outputs": [],
   "source": [
    "import numpy as np \n",
    "import pandas as pd \n",
    "import matplotlib.pyplot as plt \n",
    "from scipy import stats \n",
    "from matplotlib import rcParams \n",
    "rcParams['axes.spines.top'] = False \n",
    "rcParams['axes.spines.right'] = False"
   ]
  },
  {
   "cell_type": "code",
   "execution_count": 2,
   "metadata": {},
   "outputs": [
    {
     "ename": "IndentationError",
     "evalue": "expected an indented block (<ipython-input-2-aa8d80d766af>, line 9)",
     "output_type": "error",
     "traceback": [
      "\u001b[1;36m  File \u001b[1;32m\"<ipython-input-2-aa8d80d766af>\"\u001b[1;36m, line \u001b[1;32m9\u001b[0m\n\u001b[1;33m    :pa\u001b[0m\n\u001b[1;37m    ^\u001b[0m\n\u001b[1;31mIndentationError\u001b[0m\u001b[1;31m:\u001b[0m expected an indented block\n"
     ]
    }
   ],
   "source": [
    "#class KNN\n",
    "\n",
    "def __init__(self, k=3): \n",
    "    self.k = k \n",
    "    self.X_train = None \n",
    "    self.y_train = None\n",
    "    \n",
    "def _euclidean_distance(p, q):\n",
    ":pa \n",
    "    return np.sqrt(np.sum((p - q) ** 2))\n",
    "\n",
    "def fit(self, X, y): \n",
    "\n",
    "self.X_train = X \n",
    "self.y_train = y\n",
    "\n",
    "def predict(self, X):\n",
    "\n",
    "    predictions = [] \n",
    "    for p in X: \n",
    "        euc_distances = [self._euclidean_distance(p, q) for q in self.X_train] \n",
    "        sorted_k = np.argsort(euc_distances)[:self.k] \n",
    "        k_nearest = [self.y_train[y] for y in sorted_k] \n",
    "        predictions.append(stats.mode(k_nearest)[0][0])\n",
    "return np.array(predictions)"
   ]
  },
  {
   "cell_type": "code",
   "execution_count": null,
   "metadata": {},
   "outputs": [],
   "source": [
    "#Testing\n",
    "\n",
    "from sklearn.datasets import load_breast_cancer\n",
    "\n",
    "data = load_breast_cancer() \n",
    "X = data.data \n",
    "y = data.target\n",
    "\n",
    "from sklearn.model_selection import train_test_split\n",
    "X_train, X_test, y_train, y_test = train_test_split(X, y, test_size=0.2, random_state=42)\n",
    "\n",
    "model = KNN() model.fit(X_train, y_train) preds = model.predict(X_test)\n",
    "\n",
    "preds\n",
    "\n",
    "y_test\n",
    "\n",
    " ● Let's calculate accuracy to evaluate\n",
    "    \n",
    "from sklearn.metrics import accuracy_score\n",
    "accuracy_score(y_test, preds)\n",
    "\n",
    "● Let's tweak it by finding the optimal K value"
   ]
  },
  {
   "cell_type": "code",
   "execution_count": null,
   "metadata": {},
   "outputs": [],
   "source": [
    "# K optimization\n",
    "\n",
    "evals = []\n",
    "\n",
    "for k in range(1, 16, 2): \n",
    "    model = KNN(k=k) \n",
    "    model.fit(X_train, y_train) \n",
    "    preds = model.predict(X_test) \n",
    "    accuracy = accuracy_score(y_test, preds) \n",
    "    evals.append({'k': k, 'accuracy': accuracy})\n",
    "\n",
    "    ● Let's visually inspect the best K:\n",
    "\n",
    "evals = pd.DataFrame(evals) \n",
    "best_k = evals.sort_values(by='accuracy', ascending=False).iloc[0]\n",
    "\n",
    "plt.figure(figsize=(16, 8)) \n",
    "plt.plot(evals['k'], evals['accuracy'], lw=3, c='#087E8B') \n",
    "plt.scatter(best_k['k'], best_k['accuracy'], s=200, c='#087E8B') \n",
    "plt.title(f\"K Parameter Optimization, Optimal k = {int(best_k['k'])}\", size=20) \n",
    "plt.xlabel('K', size=14) \n",
    "plt.ylabel('Accuracy', size=14) \n",
    "plt.savefig('images/004_KNN_k_optimization.png', dpi=300, bbox_inches='tight') \n",
    "plt.show()"
   ]
  },
  {
   "cell_type": "code",
   "execution_count": null,
   "metadata": {},
   "outputs": [],
   "source": [
    "#Comparison with Scikit-Learn\n",
    "\n",
    "from sklearn.neighbors import KNeighbors Classifier\n",
    "\n",
    "    knn_model = KNeighborsClassifier() \n",
    "    knn_model.fit(X_train, y_train) \n",
    "    knn_preds = knn_model.predict(X_test)\n",
    "\n",
    "accuracy_score(y_test, knn_preds)"
   ]
  },
  {
   "cell_type": "code",
   "execution_count": null,
   "metadata": {},
   "outputs": [],
   "source": []
  }
 ],
 "metadata": {
  "kernelspec": {
   "display_name": "Python 3",
   "language": "python",
   "name": "python3"
  },
  "language_info": {
   "codemirror_mode": {
    "name": "ipython",
    "version": 3
   },
   "file_extension": ".py",
   "mimetype": "text/x-python",
   "name": "python",
   "nbconvert_exporter": "python",
   "pygments_lexer": "ipython3",
   "version": "3.8.5"
  }
 },
 "nbformat": 4,
 "nbformat_minor": 4
}
